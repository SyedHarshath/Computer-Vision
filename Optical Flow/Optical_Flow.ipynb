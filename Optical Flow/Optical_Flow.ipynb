{
  "cells": [
    {
      "cell_type": "markdown",
      "metadata": {
        "id": "view-in-github",
        "colab_type": "text"
      },
      "source": [
        "<a href=\"https://colab.research.google.com/github/SyedHarshath/Computer-Vision/blob/main/Optical_Flow.ipynb\" target=\"_parent\"><img src=\"https://colab.research.google.com/assets/colab-badge.svg\" alt=\"Open In Colab\"/></a>"
      ]
    },
    {
      "cell_type": "markdown",
      "id": "87e86d7b-03a5-4ecd-8129-355d80dbecdf",
      "metadata": {
        "id": "87e86d7b-03a5-4ecd-8129-355d80dbecdf"
      },
      "source": [
        "### Optical Flow using Lucas Kanade Algorithm"
      ]
    },
    {
      "cell_type": "markdown",
      "id": "85c162a7-9fd0-434f-8765-7e49ede7f62c",
      "metadata": {
        "id": "85c162a7-9fd0-434f-8765-7e49ede7f62c"
      },
      "source": [
        "### Two Frames"
      ]
    },
    {
      "cell_type": "code",
      "execution_count": null,
      "id": "40b1cda2-05b9-4b3e-ae69-c3dba6abbd8d",
      "metadata": {
        "id": "40b1cda2-05b9-4b3e-ae69-c3dba6abbd8d"
      },
      "outputs": [],
      "source": [
        "import cv2\n",
        "import numpy as np"
      ]
    },
    {
      "cell_type": "code",
      "execution_count": null,
      "id": "3295af45-4f5f-4b52-846d-096f4bae2b75",
      "metadata": {
        "id": "3295af45-4f5f-4b52-846d-096f4bae2b75"
      },
      "outputs": [],
      "source": [
        "cap = cv2.VideoCapture(\"op.mp4\")\n",
        "ret,frame1 = cap.read()\n",
        "if not ret:\n",
        "    print(\"Error: Could not read frame\")\n",
        "    cap.release()\n",
        "    exit()\n",
        "ret,frame2 = cap.read()\n",
        "if not ret:\n",
        "    print(\"Error:Could not read frame\")\n",
        "    cap.release()\n",
        "    exit()"
      ]
    },
    {
      "cell_type": "code",
      "execution_count": null,
      "id": "578c24f7-de65-45b4-a77a-563f59dc768d",
      "metadata": {
        "id": "578c24f7-de65-45b4-a77a-563f59dc768d"
      },
      "outputs": [],
      "source": [
        "gray1 = cv2.cvtColor(frame1,cv2.COLOR_BGR2GRAY)\n",
        "gray2 = cv2.cvtColor(frame2,cv2.COLOR_BGR2GRAY)"
      ]
    },
    {
      "cell_type": "code",
      "execution_count": null,
      "id": "c48501c3-f5d7-47bb-882d-ba2feee1c96a",
      "metadata": {
        "id": "c48501c3-f5d7-47bb-882d-ba2feee1c96a"
      },
      "outputs": [],
      "source": [
        "feature_params = dict(maxCorners=400,qualityLevel=0.1,minDistance=7,blockSize=7)\n",
        "p0 = cv2.goodFeaturesToTrack(gray1,mask=None,**feature_params)"
      ]
    },
    {
      "cell_type": "code",
      "execution_count": null,
      "id": "773212e3-c97e-4115-aa2e-bd5585bed89d",
      "metadata": {
        "id": "773212e3-c97e-4115-aa2e-bd5585bed89d"
      },
      "outputs": [],
      "source": [
        "lk = dict(winSize=(21,21),maxLevel=5,criteria=(cv2.TERM_CRITERIA_EPS | cv2.TERM_CRITERIA_COUNT,10,0.03))"
      ]
    },
    {
      "cell_type": "code",
      "execution_count": null,
      "id": "c61d2cdd-82e2-4e20-bd89-208339687faa",
      "metadata": {
        "id": "c61d2cdd-82e2-4e20-bd89-208339687faa"
      },
      "outputs": [],
      "source": [
        "p1,st,err = cv2.calcOpticalFlowPyrLK(gray1,gray2,p0,None,**lk)"
      ]
    },
    {
      "cell_type": "code",
      "execution_count": null,
      "id": "4eb89888-b615-4f55-b6af-fb8e6b80733c",
      "metadata": {
        "id": "4eb89888-b615-4f55-b6af-fb8e6b80733c"
      },
      "outputs": [],
      "source": [
        "good_new = p1[st==1]\n",
        "good_old = p0[st==1]"
      ]
    },
    {
      "cell_type": "code",
      "execution_count": null,
      "id": "b1b4e36d-a4ba-4470-b460-04a689fb585e",
      "metadata": {
        "id": "b1b4e36d-a4ba-4470-b460-04a689fb585e"
      },
      "outputs": [],
      "source": [
        "movement_threshold = 2\n",
        "for i,(new,old) in enumerate(zip(good_new,good_old)):\n",
        "    a,b = new.ravel()\n",
        "    c,d = old.ravel()\n",
        "    movement_distance = np.sqrt((a - c) ** 2 + (b - d) ** 2)\n",
        "\n",
        "    if movement_distance < movement_threshold:\n",
        "        continue\n",
        "\n",
        "    color = (0, 255, 0)\n",
        "    if movement_distance > 5:\n",
        "        color = (0, 0, 255)\n",
        "    frame2 = cv2.line(frame2,(int(c), int(d)), (int(a), int(b)), color, 2)\n",
        "    frame2 = cv2.circle(frame2,(int(a), int(b)),5, color, -1)"
      ]
    },
    {
      "cell_type": "code",
      "execution_count": null,
      "id": "e056ef49-f664-469f-80db-0da780e1fbbd",
      "metadata": {
        "id": "e056ef49-f664-469f-80db-0da780e1fbbd"
      },
      "outputs": [],
      "source": [
        "cv2.imshow(\"Optical Flow (Two frames)\",frame2)\n",
        "cv2.waitKey(0)\n",
        "cv2.destroyAllWindows()\n",
        "cap.release()"
      ]
    },
    {
      "cell_type": "markdown",
      "id": "8694bbed-6143-46a8-b340-23acc85bca26",
      "metadata": {
        "id": "8694bbed-6143-46a8-b340-23acc85bca26"
      },
      "source": [
        "### Whole Video"
      ]
    },
    {
      "cell_type": "code",
      "execution_count": null,
      "id": "8b498c78-8b9d-4217-8b21-8edf8870786d",
      "metadata": {
        "id": "8b498c78-8b9d-4217-8b21-8edf8870786d"
      },
      "outputs": [],
      "source": [
        "cap = cv2.VideoCapture(\"op.mp4\")\n",
        "ret, old_frame = cap.read()\n",
        "if not ret:\n",
        "    print(\"Error: Could not read video.\")\n",
        "    cap.release()\n",
        "    exit()\n",
        "\n",
        "old_gray = cv2.cvtColor(old_frame, cv2.COLOR_BGR2GRAY)\n",
        "feature_params = dict(maxCorners=400, qualityLevel=0.1, minDistance=7, blockSize=7)\n",
        "feature_mask = np.ones_like(old_gray, dtype=np.uint8) * 255\n",
        "feature_mask[:, :150] = 0\n",
        "p0 = cv2.goodFeaturesToTrack(old_gray, mask=feature_mask, **feature_params)\n",
        "lk_params = dict(winSize=(21, 21), maxLevel=5,\n",
        "                 criteria=(cv2.TERM_CRITERIA_EPS | cv2.TERM_CRITERIA_COUNT, 10, 0.03))\n",
        "mask = np.zeros_like(old_frame)\n",
        "movement_threshold = 2\n",
        "fourcc = cv2.VideoWriter_fourcc(*'mp4v')\n",
        "fps = cap.get(cv2.CAP_PROP_FPS)\n",
        "width = int(cap.get(cv2.CAP_PROP_FRAME_WIDTH))\n",
        "height = int(cap.get(cv2.CAP_PROP_FRAME_HEIGHT))\n",
        "out = cv2.VideoWriter(\"optical_flow_output.mp4\", fourcc, fps, (width, height))\n",
        "\n",
        "while True:\n",
        "    ret, frame = cap.read()\n",
        "    if not ret:\n",
        "        break\n",
        "    frame_gray = cv2.cvtColor(frame, cv2.COLOR_BGR2GRAY)\n",
        "    p1, st, err = cv2.calcOpticalFlowPyrLK(old_gray, frame_gray, p0, None, **lk_params)\n",
        "    if p1 is None:\n",
        "        break\n",
        "    good_new = p1[st == 1]\n",
        "    good_old = p0[st == 1]\n",
        "    for new, old in zip(good_new, good_old):\n",
        "        a, b = new.ravel()\n",
        "        c, d = old.ravel()\n",
        "        movement_distance = np.sqrt((a - c) ** 2 + (b - d) ** 2)\n",
        "        if movement_distance < movement_threshold:\n",
        "            continue\n",
        "        color = (255, 0, 0)\n",
        "        if movement_distance > 5:\n",
        "            color = (0, 0, 255)\n",
        "        mask = cv2.line(mask, (int(c), int(d)), (int(a), int(b)), color, 2)\n",
        "        frame = cv2.circle(frame, (int(a), int(b)), 5, color, -1)\n",
        "    img = cv2.add(frame, mask)\n",
        "\n",
        "    cv2.imshow(\"Optical Flow - Full Video\", img)\n",
        "    out.write(img)\n",
        "    if cv2.waitKey(30) & 0xFF == 27:\n",
        "        break\n",
        "    old_gray = frame_gray.copy()\n",
        "    p0 = good_new.reshape(-1, 1, 2)\n",
        "\n",
        "cap.release()\n",
        "out.release()\n",
        "cv2.destroyAllWindows()"
      ]
    },
    {
      "cell_type": "markdown",
      "id": "e7c05af8-56af-40d6-8242-2cb3886c23f6",
      "metadata": {
        "id": "e7c05af8-56af-40d6-8242-2cb3886c23f6"
      },
      "source": [
        "### Feature Tracking using KLT"
      ]
    },
    {
      "cell_type": "code",
      "execution_count": null,
      "id": "c9bbe82a-7003-4b1c-a139-5e6dfca2ebbd",
      "metadata": {
        "id": "c9bbe82a-7003-4b1c-a139-5e6dfca2ebbd"
      },
      "outputs": [],
      "source": [
        "cap = cv2.VideoCapture('mi.mp4')\n",
        "feature_params = dict(maxCorners=100,\n",
        "                      qualityLevel=0.3,\n",
        "                      minDistance=7,\n",
        "                      blockSize=7)\n",
        "lk_params = dict(winSize=(15, 15),\n",
        "                 maxLevel=2,\n",
        "                 criteria=(cv2.TERM_CRITERIA_EPS | cv2.TERM_CRITERIA_COUNT, 10, 0.03))\n",
        "color = np.random.randint(0, 255, (100, 3))\n",
        "ret, old_frame = cap.read()\n",
        "old_frame = cv2.resize(old_frame, (512, 512))\n",
        "old_gray = cv2.cvtColor(old_frame, cv2.COLOR_BGR2GRAY)\n",
        "p0 = cv2.goodFeaturesToTrack(old_gray, mask=None, **feature_params)\n",
        "mask = np.zeros_like(old_frame)\n",
        "while True:\n",
        "    ret, frame = cap.read()\n",
        "    if not ret:\n",
        "        break\n",
        "    frame = cv2.resize(frame, (512, 512))\n",
        "    frame_gray = cv2.cvtColor(frame, cv2.COLOR_BGR2GRAY)\n",
        "    p1, st, err = cv2.calcOpticalFlowPyrLK(old_gray, frame_gray, p0, None, **lk_params)\n",
        "    if p1 is not None:\n",
        "        good_new = p1[st == 1]\n",
        "        good_old = p0[st == 1]\n",
        "        new_mask = np.zeros_like(mask)\n",
        "        for i, (new, old) in enumerate(zip(good_new, good_old)):\n",
        "            a, b = new.ravel()\n",
        "            c, d = old.ravel()\n",
        "            new_mask = cv2.line(new_mask, (int(a), int(b)), (int(c), int(d)), color[i % 100].tolist(), 2)\n",
        "            frame = cv2.circle(frame, (int(a), int(b)), 5, color[i % 100].tolist(), -1)\n",
        "        mask = new_mask\n",
        "        img = cv2.add(frame, mask)\n",
        "\n",
        "        old_gray = frame_gray.copy()\n",
        "        p0 = good_new.reshape(-1, 1, 2)\n",
        "\n",
        "    else:\n",
        "        p0 = cv2.goodFeaturesToTrack(frame_gray, mask=None, **feature_params)\n",
        "        mask = np.zeros_like(frame)\n",
        "\n",
        "    cv2.imshow('KLT Feature Tracking', img if 'img' in locals() else frame)\n",
        "\n",
        "    if cv2.waitKey(30) & 0xFF == 27:\n",
        "        break\n",
        "\n",
        "cap.release()\n",
        "cv2.destroyAllWindows()\n"
      ]
    },
    {
      "cell_type": "code",
      "execution_count": null,
      "id": "0e53ba1d-f178-4805-8d89-838efa7b29fd",
      "metadata": {
        "id": "0e53ba1d-f178-4805-8d89-838efa7b29fd"
      },
      "outputs": [],
      "source": []
    },
    {
      "cell_type": "code",
      "execution_count": null,
      "id": "dc77a47f-a01c-42fd-b7dc-4ded01a84974",
      "metadata": {
        "id": "dc77a47f-a01c-42fd-b7dc-4ded01a84974"
      },
      "outputs": [],
      "source": []
    },
    {
      "cell_type": "code",
      "execution_count": null,
      "id": "214a48e2-4563-4c41-b2d8-ce99c07aef61",
      "metadata": {
        "id": "214a48e2-4563-4c41-b2d8-ce99c07aef61"
      },
      "outputs": [],
      "source": []
    }
  ],
  "metadata": {
    "kernelspec": {
      "display_name": "Python 3 (ipykernel)",
      "language": "python",
      "name": "python3"
    },
    "language_info": {
      "codemirror_mode": {
        "name": "ipython",
        "version": 3
      },
      "file_extension": ".py",
      "mimetype": "text/x-python",
      "name": "python",
      "nbconvert_exporter": "python",
      "pygments_lexer": "ipython3",
      "version": "3.12.5"
    },
    "colab": {
      "provenance": [],
      "include_colab_link": true
    }
  },
  "nbformat": 4,
  "nbformat_minor": 5
}